{
 "cells": [
  {
   "cell_type": "code",
   "execution_count": 2,
   "id": "cbf26159-356e-4231-8054-93d1da463c85",
   "metadata": {},
   "outputs": [
    {
     "name": "stdout",
     "output_type": "stream",
     "text": [
      "Public URL: https://abc5-118-68-5-18.ngrok-free.app\n"
     ]
    },
    {
     "name": "stderr",
     "output_type": "stream",
     "text": [
      "Some weights of BertForSequenceClassification were not initialized from the model checkpoint at bert-base-uncased and are newly initialized: ['classifier.bias', 'classifier.weight']\n",
      "You should probably TRAIN this model on a down-stream task to be able to use it for predictions and inference.\n"
     ]
    },
    {
     "name": "stdout",
     "output_type": "stream",
     "text": [
      " * Serving Flask app '__main__'\n",
      " * Debug mode: off\n"
     ]
    },
    {
     "name": "stderr",
     "output_type": "stream",
     "text": [
      "WARNING: This is a development server. Do not use it in a production deployment. Use a production WSGI server instead.\n",
      " * Running on http://127.0.0.1:5000\n",
      "Press CTRL+C to quit\n"
     ]
    }
   ],
   "source": [
    "from flask import Flask, render_template, request\n",
    "import torch\n",
    "from transformers import BertTokenizer, BertForSequenceClassification\n",
    "from pyngrok import ngrok\n",
    "\n",
    "# Setup ngrok\n",
    "ngrok.set_auth_token(\"FX2WPB6BDNGWKJVOLXMGKERQGUCVG4OE\")  # Replace with your ngrok auth token\n",
    "public_url = ngrok.connect(5000).public_url\n",
    "print(f\"Public URL: {public_url}\")\n",
    "\n",
    "# Initialize the Flask app\n",
    "app = Flask(__name__, template_folder='templates')\n",
    "\n",
    "model_name = \"bert-base-uncased\"\n",
    "model = BertForSequenceClassification.from_pretrained(model_name, num_labels=34*4)\n",
    "tokenizer = BertTokenizer.from_pretrained(model_name)\n",
    "model.eval()\n",
    "\n",
    "categories = ['FACILITIES#CLEANLINESS', 'FACILITIES#COMFORT', 'FACILITIES#DESIGN&FEATURES', \n",
    "              'FACILITIES#GENERAL', 'FACILITIES#MISCELLANEOUS', 'FACILITIES#PRICES', \n",
    "              'FACILITIES#QUALITY', 'FOOD&DRINKS#MISCELLANEOUS', 'FOOD&DRINKS#PRICES', \n",
    "              'FOOD&DRINKS#QUALITY', 'FOOD&DRINKS#STYLE&OPTIONS', 'HOTEL#CLEANLINESS', \n",
    "              'HOTEL#COMFORT', 'HOTEL#DESIGN&FEATURES', 'HOTEL#GENERAL', 'HOTEL#MISCELLANEOUS', \n",
    "              'HOTEL#PRICES', 'HOTEL#QUALITY', 'LOCATION#GENERAL', 'ROOM_AMENITIES#CLEANLINESS', \n",
    "              'ROOM_AMENITIES#COMFORT', 'ROOM_AMENITIES#DESIGN&FEATURES', 'ROOM_AMENITIES#GENERAL', \n",
    "              'ROOM_AMENITIES#MISCELLANEOUS', 'ROOM_AMENITIES#PRICES', 'ROOM_AMENITIES#QUALITY', \n",
    "              'ROOMS#CLEANLINESS', 'ROOMS#COMFORT', 'ROOMS#DESIGN&FEATURES', 'ROOMS#GENERAL', \n",
    "              'ROOMS#MISCELLANEOUS', 'ROOMS#PRICES', 'ROOMS#QUALITY', 'SERVICE#GENERAL']\n",
    "\n",
    "def predict(model, tokenizer, sentence):\n",
    "    inputs = tokenizer.encode_plus(\n",
    "        sentence,\n",
    "        max_length=128,\n",
    "        add_special_tokens=True,\n",
    "        return_token_type_ids=True,\n",
    "        padding='max_length',\n",
    "        truncation=True,\n",
    "        return_attention_mask=True,\n",
    "        return_tensors='pt'\n",
    "    )\n",
    "\n",
    "    input_ids = inputs['input_ids']\n",
    "    attention_mask = inputs['attention_mask']\n",
    "    token_type_ids = inputs['token_type_ids']\n",
    "\n",
    "    with torch.no_grad():\n",
    "        outputs = model(input_ids, attention_mask, token_type_ids)\n",
    "        predictions = torch.sigmoid(outputs.logits).cpu().numpy()\n",
    "\n",
    "    return predictions\n",
    "\n",
    "def decode_predictions(predicted_labels, threshold=0.5):\n",
    "    sentiments = ['positive', 'negative', 'neutral', 'none']\n",
    "    decoded_predictions = {}\n",
    "    for i, pred in enumerate(predicted_labels[0]):\n",
    "        if pred > threshold:\n",
    "            sentiment = sentiments[i % 4]\n",
    "            if sentiment in ['neutral', 'none']:\n",
    "                continue\n",
    "            category_index = i // 4\n",
    "            category = categories[category_index]\n",
    "            if category not in decoded_predictions or pred > decoded_predictions[category][1]:\n",
    "                decoded_predictions[category] = (sentiment, pred)\n",
    "\n",
    "    return [f\"{category}: {sentiment}\" for category, (sentiment, _) in decoded_predictions.items()]\n",
    "\n",
    "@app.route('/', methods=['GET', 'POST'])\n",
    "def index():\n",
    "    return render_template('index.html')\n",
    "\n",
    "@app.route('/predict', methods=['GET', 'POST'])\n",
    "def predict_route():\n",
    "    predictions = []\n",
    "    if request.method == 'POST':\n",
    "        input_text = request.form['input_text']\n",
    "        predicted_labels = predict(model, tokenizer, input_text)\n",
    "        predictions = decode_predictions(predicted_labels)\n",
    "    return render_template('predict.html', predictions=predictions)\n",
    "\n",
    "@app.route('/airline')\n",
    "def airline():\n",
    "    return render_template('airline.html')\n",
    "\n",
    "@app.route('/review')\n",
    "def review():\n",
    "    return render_template('review.html')\n",
    "\n",
    "@app.route('/HCM')\n",
    "def HCM():\n",
    "    return render_template('HCM.html')\n",
    "\n",
    "@app.route('/HL')\n",
    "def HL():\n",
    "    return render_template('HL.html')\n",
    "\n",
    "@app.route('/DN')\n",
    "def DN():\n",
    "    return render_template('DN.html')\n",
    "\n",
    "@app.route('/CT')\n",
    "def CT():\n",
    "    return render_template('CT.html')\n",
    "\n",
    "@app.route('/NT')\n",
    "def NT():\n",
    "    return render_template('NT.html')\n",
    "\n",
    "if __name__ == '__main__':\n",
    "    app.run(port=5000)\n"
   ]
  },
  {
   "cell_type": "code",
   "execution_count": null,
   "id": "7a60076b-93fe-4097-a73f-7264481b111a",
   "metadata": {},
   "outputs": [],
   "source": []
  }
 ],
 "metadata": {
  "kernelspec": {
   "display_name": "Python 3 (ipykernel)",
   "language": "python",
   "name": "python3"
  },
  "language_info": {
   "codemirror_mode": {
    "name": "ipython",
    "version": 3
   },
   "file_extension": ".py",
   "mimetype": "text/x-python",
   "name": "python",
   "nbconvert_exporter": "python",
   "pygments_lexer": "ipython3",
   "version": "3.11.7"
  }
 },
 "nbformat": 4,
 "nbformat_minor": 5
}
